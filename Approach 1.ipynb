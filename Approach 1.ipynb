{
 "cells": [
  {
   "cell_type": "code",
   "execution_count": 1,
   "id": "1105b31c-41b3-4a69-be7c-60d93468249c",
   "metadata": {},
   "outputs": [],
   "source": [
    "import pandas as pd\n",
    "import numpy as np\n",
    "from datetime import datetime\n",
    "from prophet import Prophet\n",
    "import matplotlib.pyplot as plt\n",
    "from sklearn.metrics import mean_absolute_error, mean_squared_error"
   ]
  },
  {
   "cell_type": "code",
   "execution_count": 14,
   "id": "77733f48-d8ac-4de7-ae55-59c132e0058b",
   "metadata": {
    "scrolled": true
   },
   "outputs": [
    {
     "name": "stdout",
     "output_type": "stream",
     "text": [
      "   Created Date  Cumulative Attendance Count\n",
      "0    2019-07-16                          102\n",
      "1    2019-07-30                          204\n",
      "2    2019-07-31                          223\n",
      "3    2019-08-01                          225\n",
      "4    2019-08-02                          226\n",
      "..          ...                          ...\n",
      "45   2023-05-07                          315\n",
      "46   2023-05-09                          322\n",
      "47   2023-05-12                          333\n",
      "48   2023-05-15                          347\n",
      "49   2023-05-16                          357\n",
      "\n",
      "[486 rows x 2 columns]\n"
     ]
    }
   ],
   "source": [
    "# Training Data, 6 datasets and only 50 days of the test data\n",
    "Data_sets = [\n",
    "    'D19_cumulative_encoded.csv', 'D21_cumulative_encoded.csv', 'GP21_cumulative_encoded.csv',\n",
    "    'MSE21_cumulative_encoded.csv', 'NP21_cumulative_encoded.csv', 'SRM22_cumulative_encoded.csv'\n",
    "]\n",
    "test_data = pd.read_csv('SRM23_cumulative_encoded.csv') \n",
    "test_data1 = test_data[:50] # Test data 1 is the number of tickets hypothetically already sold\n",
    "dataframes = []\n",
    "for file in Data_sets:\n",
    "    dataframes.append(pd.read_csv(file))\n",
    "df = pd.concat(dataframes, axis=0)\n",
    "new_df = [df,test_data1]\n",
    "df = pd.concat(new_df, axis=0)\n",
    "print(df)"
   ]
  },
  {
   "cell_type": "code",
   "execution_count": 3,
   "id": "9607e2a8-801b-43d2-be6e-6a8c93d9ff31",
   "metadata": {},
   "outputs": [
    {
     "data": {
      "text/html": [
       "<div>\n",
       "<style scoped>\n",
       "    .dataframe tbody tr th:only-of-type {\n",
       "        vertical-align: middle;\n",
       "    }\n",
       "\n",
       "    .dataframe tbody tr th {\n",
       "        vertical-align: top;\n",
       "    }\n",
       "\n",
       "    .dataframe thead th {\n",
       "        text-align: right;\n",
       "    }\n",
       "</style>\n",
       "<table border=\"1\" class=\"dataframe\">\n",
       "  <thead>\n",
       "    <tr style=\"text-align: right;\">\n",
       "      <th></th>\n",
       "      <th>ds</th>\n",
       "      <th>y</th>\n",
       "    </tr>\n",
       "  </thead>\n",
       "  <tbody>\n",
       "    <tr>\n",
       "      <th>0</th>\n",
       "      <td>2019-07-16</td>\n",
       "      <td>102</td>\n",
       "    </tr>\n",
       "    <tr>\n",
       "      <th>1</th>\n",
       "      <td>2019-07-30</td>\n",
       "      <td>204</td>\n",
       "    </tr>\n",
       "    <tr>\n",
       "      <th>2</th>\n",
       "      <td>2019-07-31</td>\n",
       "      <td>223</td>\n",
       "    </tr>\n",
       "    <tr>\n",
       "      <th>3</th>\n",
       "      <td>2019-08-01</td>\n",
       "      <td>225</td>\n",
       "    </tr>\n",
       "    <tr>\n",
       "      <th>4</th>\n",
       "      <td>2019-08-02</td>\n",
       "      <td>226</td>\n",
       "    </tr>\n",
       "    <tr>\n",
       "      <th>...</th>\n",
       "      <td>...</td>\n",
       "      <td>...</td>\n",
       "    </tr>\n",
       "    <tr>\n",
       "      <th>45</th>\n",
       "      <td>2023-05-07</td>\n",
       "      <td>315</td>\n",
       "    </tr>\n",
       "    <tr>\n",
       "      <th>46</th>\n",
       "      <td>2023-05-09</td>\n",
       "      <td>322</td>\n",
       "    </tr>\n",
       "    <tr>\n",
       "      <th>47</th>\n",
       "      <td>2023-05-12</td>\n",
       "      <td>333</td>\n",
       "    </tr>\n",
       "    <tr>\n",
       "      <th>48</th>\n",
       "      <td>2023-05-15</td>\n",
       "      <td>347</td>\n",
       "    </tr>\n",
       "    <tr>\n",
       "      <th>49</th>\n",
       "      <td>2023-05-16</td>\n",
       "      <td>357</td>\n",
       "    </tr>\n",
       "  </tbody>\n",
       "</table>\n",
       "<p>486 rows × 2 columns</p>\n",
       "</div>"
      ],
      "text/plain": [
       "            ds    y\n",
       "0   2019-07-16  102\n",
       "1   2019-07-30  204\n",
       "2   2019-07-31  223\n",
       "3   2019-08-01  225\n",
       "4   2019-08-02  226\n",
       "..         ...  ...\n",
       "45  2023-05-07  315\n",
       "46  2023-05-09  322\n",
       "47  2023-05-12  333\n",
       "48  2023-05-15  347\n",
       "49  2023-05-16  357\n",
       "\n",
       "[486 rows x 2 columns]"
      ]
     },
     "execution_count": 3,
     "metadata": {},
     "output_type": "execute_result"
    }
   ],
   "source": [
    "df = df.rename(columns={'Created Date': 'ds', 'Cumulative Attendance Count': 'y'})\n",
    "df"
   ]
  },
  {
   "cell_type": "code",
   "execution_count": 4,
   "id": "743650a6-3933-4005-a7d2-70cad1009348",
   "metadata": {},
   "outputs": [
    {
     "name": "stderr",
     "output_type": "stream",
     "text": [
      "18:51:55 - cmdstanpy - INFO - Chain [1] start processing\n",
      "18:51:55 - cmdstanpy - INFO - Chain [1] done processing\n"
     ]
    },
    {
     "data": {
      "text/plain": [
       "<prophet.forecaster.Prophet at 0x14ce0a593a0>"
      ]
     },
     "execution_count": 4,
     "metadata": {},
     "output_type": "execute_result"
    }
   ],
   "source": [
    "m = Prophet()\n",
    "m.fit(df)"
   ]
  },
  {
   "cell_type": "raw",
   "id": "06f50562-61a4-4abf-9e46-ded94071b374",
   "metadata": {},
   "source": [
    "#Trying to replicate the scenario, let's say we have information on the first 49 days of tickets sales. Using this data, we want to predict the total number of tickets that will eventually be sold by the last day of ticket sales. Once we make our prediction, we'll compare it to the actual final number of tickets sold, which we'll find in our case is the rest of our data in the test data set. This helps us see how accurate our prediction is."
   ]
  },
  {
   "cell_type": "code",
   "execution_count": 6,
   "id": "9e0a7d1d-893e-450b-b081-ad6dc534a642",
   "metadata": {},
   "outputs": [
    {
     "name": "stdout",
     "output_type": "stream",
     "text": [
      "            ds        yhat  yhat_lower  yhat_upper\n",
      "0   2019-07-16  633.705617  268.752627  962.096650\n",
      "1   2019-07-30  289.993482  -60.599133  646.000411\n",
      "2   2019-07-31  277.204581  -66.063387  609.960373\n",
      "3   2019-08-01  278.269615  -77.318051  627.445561\n",
      "4   2019-08-02  293.644092  -64.468371  626.160589\n",
      "..         ...         ...         ...         ...\n",
      "481 2023-05-07  275.374933  -54.629375  629.168068\n",
      "482 2023-05-09  259.366243  -75.418699  602.383042\n",
      "483 2023-05-12  326.973005  -28.811298  687.673536\n",
      "484 2023-05-15  325.575314  -11.627180  645.996361\n",
      "485 2023-05-16  351.937243    2.686430  693.335418\n",
      "\n",
      "[486 rows x 4 columns]\n"
     ]
    }
   ],
   "source": [
    "forecast = m.predict(df)\n",
    "predictions = forecast[['ds', 'yhat', 'yhat_lower', 'yhat_upper']]\n",
    "print(predictions)"
   ]
  },
  {
   "cell_type": "code",
   "execution_count": 7,
   "id": "88155751-f5be-4a4d-bcd7-4d09ae82bfd8",
   "metadata": {},
   "outputs": [
    {
     "name": "stdin",
     "output_type": "stream",
     "text": [
      "Enter last date of event (YYYY-MM-DD):  2023-07-18\n"
     ]
    },
    {
     "data": {
      "text/plain": [
       "63"
      ]
     },
     "execution_count": 7,
     "metadata": {},
     "output_type": "execute_result"
    }
   ],
   "source": [
    "# calculate how many days to predict in the future, (period)\n",
    "df['ds'] = pd.to_datetime(df['ds'])\n",
    "last_date = df['ds'].max()\n",
    "end_date_str = input(\"Enter last date of event (YYYY-MM-DD): \")\n",
    "end_date = datetime.strptime(end_date_str, '%Y-%m-%d')\n",
    "periods = (end_date - last_date).days\n",
    "periods"
   ]
  },
  {
   "cell_type": "code",
   "execution_count": 8,
   "id": "f52f90c9-e423-4efb-9f49-b503e375be18",
   "metadata": {},
   "outputs": [
    {
     "name": "stdout",
     "output_type": "stream",
     "text": [
      "           ds        yhat  yhat_lower  yhat_upper\n",
      "58 2023-07-14  105.056577 -231.730616  440.195909\n",
      "59 2023-07-15   91.951741 -261.646001  440.517872\n",
      "60 2023-07-16   44.837957 -328.236308  399.526435\n",
      "61 2023-07-17  -54.212591 -400.251007  271.390147\n",
      "62 2023-07-18  -75.221279 -417.269012  250.283629\n"
     ]
    }
   ],
   "source": [
    "future_dataframe = m.make_future_dataframe(periods=periods)\n",
    "future_dataframe = future_dataframe[future_dataframe['ds'] > last_date]\n",
    "\n",
    "forecast = m.predict(future_dataframe )\n",
    "result = forecast[['ds', 'yhat', 'yhat_lower', 'yhat_upper']].tail()\n",
    "print(result)"
   ]
  },
  {
   "cell_type": "code",
   "execution_count": 9,
   "id": "0a67ceef-01d0-471a-b1af-2a24cbf83996",
   "metadata": {},
   "outputs": [
    {
     "name": "stderr",
     "output_type": "stream",
     "text": [
      "C:\\Users\\HomePC\\AppData\\Local\\Programs\\Python\\Python312\\Lib\\site-packages\\prophet\\plot.py:72: FutureWarning: The behavior of DatetimeProperties.to_pydatetime is deprecated, in a future version this will return a Series containing python datetime objects instead of an ndarray. To retain the old behavior, call `np.array` on the result\n",
      "  fcst_t = fcst['ds'].dt.to_pydatetime()\n",
      "C:\\Users\\HomePC\\AppData\\Local\\Programs\\Python\\Python312\\Lib\\site-packages\\prophet\\plot.py:73: FutureWarning: The behavior of DatetimeProperties.to_pydatetime is deprecated, in a future version this will return a Series containing python datetime objects instead of an ndarray. To retain the old behavior, call `np.array` on the result\n",
      "  ax.plot(m.history['ds'].dt.to_pydatetime(), m.history['y'], 'k.',\n"
     ]
    },
    {
     "data": {
      "image/png": "[encoded data removed]",
      "text/plain": [
       "<Figure size 1000x600 with 1 Axes>"
      ]
     },
     "metadata": {},
     "output_type": "display_data"
    }
   ],
   "source": [
    "fig1 = m.plot(forecast)"
   ]
  },
  {
   "cell_type": "code",
   "execution_count": 10,
   "id": "d8fd1195-3829-4347-8474-4b630c677154",
   "metadata": {},
   "outputs": [
    {
     "data": {
      "text/html": [
       "<div>\n",
       "<style scoped>\n",
       "    .dataframe tbody tr th:only-of-type {\n",
       "        vertical-align: middle;\n",
       "    }\n",
       "\n",
       "    .dataframe tbody tr th {\n",
       "        vertical-align: top;\n",
       "    }\n",
       "\n",
       "    .dataframe thead th {\n",
       "        text-align: right;\n",
       "    }\n",
       "</style>\n",
       "<table border=\"1\" class=\"dataframe\">\n",
       "  <thead>\n",
       "    <tr style=\"text-align: right;\">\n",
       "      <th></th>\n",
       "      <th>ds</th>\n",
       "      <th>y</th>\n",
       "    </tr>\n",
       "  </thead>\n",
       "  <tbody>\n",
       "    <tr>\n",
       "      <th>50</th>\n",
       "      <td>2023-05-17</td>\n",
       "      <td>376</td>\n",
       "    </tr>\n",
       "    <tr>\n",
       "      <th>51</th>\n",
       "      <td>2023-05-18</td>\n",
       "      <td>401</td>\n",
       "    </tr>\n",
       "    <tr>\n",
       "      <th>52</th>\n",
       "      <td>2023-05-19</td>\n",
       "      <td>412</td>\n",
       "    </tr>\n",
       "    <tr>\n",
       "      <th>53</th>\n",
       "      <td>2023-05-20</td>\n",
       "      <td>414</td>\n",
       "    </tr>\n",
       "    <tr>\n",
       "      <th>54</th>\n",
       "      <td>2023-05-21</td>\n",
       "      <td>417</td>\n",
       "    </tr>\n",
       "    <tr>\n",
       "      <th>55</th>\n",
       "      <td>2023-05-22</td>\n",
       "      <td>435</td>\n",
       "    </tr>\n",
       "    <tr>\n",
       "      <th>56</th>\n",
       "      <td>2023-05-23</td>\n",
       "      <td>500</td>\n",
       "    </tr>\n",
       "    <tr>\n",
       "      <th>57</th>\n",
       "      <td>2023-05-24</td>\n",
       "      <td>569</td>\n",
       "    </tr>\n",
       "    <tr>\n",
       "      <th>58</th>\n",
       "      <td>2023-05-25</td>\n",
       "      <td>587</td>\n",
       "    </tr>\n",
       "    <tr>\n",
       "      <th>59</th>\n",
       "      <td>2023-05-26</td>\n",
       "      <td>595</td>\n",
       "    </tr>\n",
       "    <tr>\n",
       "      <th>60</th>\n",
       "      <td>2023-05-27</td>\n",
       "      <td>596</td>\n",
       "    </tr>\n",
       "    <tr>\n",
       "      <th>61</th>\n",
       "      <td>2023-05-30</td>\n",
       "      <td>609</td>\n",
       "    </tr>\n",
       "    <tr>\n",
       "      <th>62</th>\n",
       "      <td>2023-05-31</td>\n",
       "      <td>621</td>\n",
       "    </tr>\n",
       "    <tr>\n",
       "      <th>63</th>\n",
       "      <td>2023-06-01</td>\n",
       "      <td>630</td>\n",
       "    </tr>\n",
       "    <tr>\n",
       "      <th>64</th>\n",
       "      <td>2023-06-02</td>\n",
       "      <td>653</td>\n",
       "    </tr>\n",
       "    <tr>\n",
       "      <th>65</th>\n",
       "      <td>2023-06-03</td>\n",
       "      <td>655</td>\n",
       "    </tr>\n",
       "    <tr>\n",
       "      <th>66</th>\n",
       "      <td>2023-06-04</td>\n",
       "      <td>656</td>\n",
       "    </tr>\n",
       "    <tr>\n",
       "      <th>67</th>\n",
       "      <td>2023-06-05</td>\n",
       "      <td>670</td>\n",
       "    </tr>\n",
       "    <tr>\n",
       "      <th>68</th>\n",
       "      <td>2023-06-06</td>\n",
       "      <td>679</td>\n",
       "    </tr>\n",
       "    <tr>\n",
       "      <th>69</th>\n",
       "      <td>2023-06-07</td>\n",
       "      <td>685</td>\n",
       "    </tr>\n",
       "    <tr>\n",
       "      <th>70</th>\n",
       "      <td>2023-06-08</td>\n",
       "      <td>687</td>\n",
       "    </tr>\n",
       "    <tr>\n",
       "      <th>71</th>\n",
       "      <td>2023-06-29</td>\n",
       "      <td>714</td>\n",
       "    </tr>\n",
       "    <tr>\n",
       "      <th>72</th>\n",
       "      <td>2023-07-04</td>\n",
       "      <td>735</td>\n",
       "    </tr>\n",
       "    <tr>\n",
       "      <th>73</th>\n",
       "      <td>2023-07-17</td>\n",
       "      <td>740</td>\n",
       "    </tr>\n",
       "    <tr>\n",
       "      <th>74</th>\n",
       "      <td>2023-07-18</td>\n",
       "      <td>741</td>\n",
       "    </tr>\n",
       "  </tbody>\n",
       "</table>\n",
       "</div>"
      ],
      "text/plain": [
       "            ds    y\n",
       "50  2023-05-17  376\n",
       "51  2023-05-18  401\n",
       "52  2023-05-19  412\n",
       "53  2023-05-20  414\n",
       "54  2023-05-21  417\n",
       "55  2023-05-22  435\n",
       "56  2023-05-23  500\n",
       "57  2023-05-24  569\n",
       "58  2023-05-25  587\n",
       "59  2023-05-26  595\n",
       "60  2023-05-27  596\n",
       "61  2023-05-30  609\n",
       "62  2023-05-31  621\n",
       "63  2023-06-01  630\n",
       "64  2023-06-02  653\n",
       "65  2023-06-03  655\n",
       "66  2023-06-04  656\n",
       "67  2023-06-05  670\n",
       "68  2023-06-06  679\n",
       "69  2023-06-07  685\n",
       "70  2023-06-08  687\n",
       "71  2023-06-29  714\n",
       "72  2023-07-04  735\n",
       "73  2023-07-17  740\n",
       "74  2023-07-18  741"
      ]
     },
     "execution_count": 10,
     "metadata": {},
     "output_type": "execute_result"
    }
   ],
   "source": [
    "# Actual sold, this dataset is to be used to compare the forecasted vs actual \n",
    "test_data2 = test_data[50:]\n",
    "test_data2= test_data2.rename(columns={'Created Date': 'ds', 'Cumulative Attendance Count': 'y'})\n",
    "test_data2\n"
   ]
  },
  {
   "cell_type": "code",
   "execution_count": 12,
   "id": "7de04ba3-75ac-4e38-bdd8-a0981b81080b",
   "metadata": {},
   "outputs": [
    {
     "data": {
      "text/html": [
       "<div>\n",
       "<style scoped>\n",
       "    .dataframe tbody tr th:only-of-type {\n",
       "        vertical-align: middle;\n",
       "    }\n",
       "\n",
       "    .dataframe tbody tr th {\n",
       "        vertical-align: top;\n",
       "    }\n",
       "\n",
       "    .dataframe thead th {\n",
       "        text-align: right;\n",
       "    }\n",
       "</style>\n",
       "<table border=\"1\" class=\"dataframe\">\n",
       "  <thead>\n",
       "    <tr style=\"text-align: right;\">\n",
       "      <th></th>\n",
       "      <th>ds</th>\n",
       "      <th>y</th>\n",
       "      <th>yhat</th>\n",
       "    </tr>\n",
       "  </thead>\n",
       "  <tbody>\n",
       "    <tr>\n",
       "      <th>0</th>\n",
       "      <td>2023-05-17</td>\n",
       "      <td>376</td>\n",
       "      <td>357.378432</td>\n",
       "    </tr>\n",
       "    <tr>\n",
       "      <th>1</th>\n",
       "      <td>2023-05-18</td>\n",
       "      <td>401</td>\n",
       "      <td>373.728979</td>\n",
       "    </tr>\n",
       "    <tr>\n",
       "      <th>2</th>\n",
       "      <td>2023-05-19</td>\n",
       "      <td>412</td>\n",
       "      <td>401.556987</td>\n",
       "    </tr>\n",
       "    <tr>\n",
       "      <th>3</th>\n",
       "      <td>2023-05-20</td>\n",
       "      <td>414</td>\n",
       "      <td>436.007758</td>\n",
       "    </tr>\n",
       "    <tr>\n",
       "      <th>4</th>\n",
       "      <td>2023-05-21</td>\n",
       "      <td>417</td>\n",
       "      <td>434.029741</td>\n",
       "    </tr>\n",
       "    <tr>\n",
       "      <th>5</th>\n",
       "      <td>2023-05-22</td>\n",
       "      <td>435</td>\n",
       "      <td>377.585513</td>\n",
       "    </tr>\n",
       "    <tr>\n",
       "      <th>6</th>\n",
       "      <td>2023-05-23</td>\n",
       "      <td>500</td>\n",
       "      <td>396.608402</td>\n",
       "    </tr>\n",
       "    <tr>\n",
       "      <th>7</th>\n",
       "      <td>2023-05-24</td>\n",
       "      <td>569</td>\n",
       "      <td>395.237011</td>\n",
       "    </tr>\n",
       "    <tr>\n",
       "      <th>8</th>\n",
       "      <td>2023-05-25</td>\n",
       "      <td>587</td>\n",
       "      <td>405.542837</td>\n",
       "    </tr>\n",
       "    <tr>\n",
       "      <th>9</th>\n",
       "      <td>2023-05-26</td>\n",
       "      <td>595</td>\n",
       "      <td>428.312755</td>\n",
       "    </tr>\n",
       "    <tr>\n",
       "      <th>10</th>\n",
       "      <td>2023-05-27</td>\n",
       "      <td>596</td>\n",
       "      <td>458.881690</td>\n",
       "    </tr>\n",
       "    <tr>\n",
       "      <th>11</th>\n",
       "      <td>2023-05-30</td>\n",
       "      <td>609</td>\n",
       "      <td>416.238927</td>\n",
       "    </tr>\n",
       "    <tr>\n",
       "      <th>12</th>\n",
       "      <td>2023-05-31</td>\n",
       "      <td>621</td>\n",
       "      <td>416.822507</td>\n",
       "    </tr>\n",
       "    <tr>\n",
       "      <th>13</th>\n",
       "      <td>2023-06-01</td>\n",
       "      <td>630</td>\n",
       "      <td>430.603538</td>\n",
       "    </tr>\n",
       "    <tr>\n",
       "      <th>14</th>\n",
       "      <td>2023-06-02</td>\n",
       "      <td>653</td>\n",
       "      <td>458.298871</td>\n",
       "    </tr>\n",
       "    <tr>\n",
       "      <th>15</th>\n",
       "      <td>2023-06-03</td>\n",
       "      <td>655</td>\n",
       "      <td>495.126896</td>\n",
       "    </tr>\n",
       "    <tr>\n",
       "      <th>16</th>\n",
       "      <td>2023-06-04</td>\n",
       "      <td>656</td>\n",
       "      <td>498.030154</td>\n",
       "    </tr>\n",
       "    <tr>\n",
       "      <th>17</th>\n",
       "      <td>2023-06-05</td>\n",
       "      <td>670</td>\n",
       "      <td>448.885095</td>\n",
       "    </tr>\n",
       "    <tr>\n",
       "      <th>18</th>\n",
       "      <td>2023-06-06</td>\n",
       "      <td>679</td>\n",
       "      <td>477.459638</td>\n",
       "    </tr>\n",
       "    <tr>\n",
       "      <th>19</th>\n",
       "      <td>2023-06-07</td>\n",
       "      <td>685</td>\n",
       "      <td>487.650757</td>\n",
       "    </tr>\n",
       "    <tr>\n",
       "      <th>20</th>\n",
       "      <td>2023-06-08</td>\n",
       "      <td>687</td>\n",
       "      <td>511.217234</td>\n",
       "    </tr>\n",
       "    <tr>\n",
       "      <th>21</th>\n",
       "      <td>2023-06-29</td>\n",
       "      <td>714</td>\n",
       "      <td>655.286033</td>\n",
       "    </tr>\n",
       "    <tr>\n",
       "      <th>22</th>\n",
       "      <td>2023-07-04</td>\n",
       "      <td>735</td>\n",
       "      <td>502.893277</td>\n",
       "    </tr>\n",
       "    <tr>\n",
       "      <th>23</th>\n",
       "      <td>2023-07-17</td>\n",
       "      <td>740</td>\n",
       "      <td>-54.212591</td>\n",
       "    </tr>\n",
       "    <tr>\n",
       "      <th>24</th>\n",
       "      <td>2023-07-18</td>\n",
       "      <td>741</td>\n",
       "      <td>-75.221279</td>\n",
       "    </tr>\n",
       "  </tbody>\n",
       "</table>\n",
       "</div>"
      ],
      "text/plain": [
       "           ds    y        yhat\n",
       "0  2023-05-17  376  357.378432\n",
       "1  2023-05-18  401  373.728979\n",
       "2  2023-05-19  412  401.556987\n",
       "3  2023-05-20  414  436.007758\n",
       "4  2023-05-21  417  434.029741\n",
       "5  2023-05-22  435  377.585513\n",
       "6  2023-05-23  500  396.608402\n",
       "7  2023-05-24  569  395.237011\n",
       "8  2023-05-25  587  405.542837\n",
       "9  2023-05-26  595  428.312755\n",
       "10 2023-05-27  596  458.881690\n",
       "11 2023-05-30  609  416.238927\n",
       "12 2023-05-31  621  416.822507\n",
       "13 2023-06-01  630  430.603538\n",
       "14 2023-06-02  653  458.298871\n",
       "15 2023-06-03  655  495.126896\n",
       "16 2023-06-04  656  498.030154\n",
       "17 2023-06-05  670  448.885095\n",
       "18 2023-06-06  679  477.459638\n",
       "19 2023-06-07  685  487.650757\n",
       "20 2023-06-08  687  511.217234\n",
       "21 2023-06-29  714  655.286033\n",
       "22 2023-07-04  735  502.893277\n",
       "23 2023-07-17  740  -54.212591\n",
       "24 2023-07-18  741  -75.221279"
      ]
     },
     "execution_count": 12,
     "metadata": {},
     "output_type": "execute_result"
    }
   ],
   "source": [
    "test_data2['ds'] = pd.to_datetime(test_data2['ds'])\n",
    "merged_data = test_data2[['ds', 'y']].merge(forecast[['ds', 'yhat']], on='ds', how='left')\n",
    "merged_data"
   ]
  },
  {
   "cell_type": "code",
   "execution_count": 13,
   "id": "5a175348-4fd3-405b-aae8-cf7b69728914",
   "metadata": {},
   "outputs": [
    {
     "data": {
      "image/png": "[encoded data removed]",
      "text/plain": [
       "<Figure size 1400x700 with 1 Axes>"
      ]
     },
     "metadata": {},
     "output_type": "display_data"
    }
   ],
   "source": [
    "# Plotting the actual vs predicted\n",
    "plt.figure(figsize=(14, 7))\n",
    "plt.plot(merged_data['ds'], merged_data['y'], label='Actual', color='blue')\n",
    "plt.plot(merged_data['ds'], merged_data['yhat'], label='Predicted', color='red')\n",
    "plt.xlabel('Date')\n",
    "plt.ylabel('Bookings/Ticket Sales')\n",
    "plt.title('Cumulative, Actual vs Predicted ticket sales')\n",
    "plt.legend()\n",
    "plt.savefig('Cumsales.jpg', bbox_inches='tight')\n",
    "plt.show()"
   ]
  },
  {
   "cell_type": "code",
   "execution_count": 58,
   "id": "903a74a7-a9ca-4598-89ac-debd2f1f2345",
   "metadata": {},
   "outputs": [
    {
     "name": "stdout",
     "output_type": "stream",
     "text": [
      "Predicted total tickets sold: -75.22127851942969\n",
      "Actual total tickets sold:: 741\n"
     ]
    }
   ],
   "source": [
    "# The predicted number of tickets sold vs the actual\n",
    "Actual = merged_data['y'].max()\n",
    "Predicted1 = merged_data['yhat'].iloc[-1]\n",
    "print(f'Predicted total tickets sold: {Predicted}')\n",
    "print(f'Actual total tickets sold:: {Actual}')"
   ]
  },
  {
   "cell_type": "code",
   "execution_count": 59,
   "id": "2ea12106-8ab3-4cc3-bf43-ab6fe8b42df8",
   "metadata": {},
   "outputs": [
    {
     "name": "stdout",
     "output_type": "stream",
     "text": [
      "Mean Absolute Error (MAE): 188.84503334381242\n",
      "Mean Squared Error (MSE): 73854.45652162428\n",
      "Root Mean Squared Error (RMSE): 271.76176427456505\n"
     ]
    },
    {
     "name": "stderr",
     "output_type": "stream",
     "text": [
      "C:\\Users\\HomePC\\AppData\\Local\\Programs\\Python\\Python312\\Lib\\site-packages\\sklearn\\metrics\\_regression.py:483: FutureWarning: 'squared' is deprecated in version 1.4 and will be removed in 1.6. To calculate the root mean squared error, use the function'root_mean_squared_error'.\n",
      "  warnings.warn(\n"
     ]
    }
   ],
   "source": [
    "# filter for forecasted data based on each day tickets were sold in the test_data\n",
    "predicted = forecast[forecast['ds'].isin(test_data2['ds'])]\n",
    "\n",
    "# Extract predicted and actual values\n",
    "y_pred = predicted['yhat']\n",
    "y_true = test_data2['y']\n",
    "\n",
    "# Calculate evaluation metrics\n",
    "mae = mean_absolute_error(y_true, y_pred)\n",
    "mse = mean_squared_error(y_true, y_pred)\n",
    "rmse = mean_squared_error(y_true, y_pred, squared=False)  # RMSE\n",
    "\n",
    "print(\"Mean Absolute Error (MAE):\", mae)\n",
    "print(\"Mean Squared Error (MSE):\", mse)\n",
    "print(\"Root Mean Squared Error (RMSE):\", rmse)"
   ]
  },
  {
   "cell_type": "code",
   "execution_count": 60,
   "id": "a8e05ce6-4bee-40e9-b43d-95911014758f",
   "metadata": {},
   "outputs": [
    {
     "name": "stdout",
     "output_type": "stream",
     "text": [
      "Mean Absolute Percentage Error (MAPE): 110.51%\n"
     ]
    }
   ],
   "source": [
    "# Calculate Mean Absolute Percentage Error (MAPE)\n",
    "mape = 100 * (abs(y_true - y_pred) / y_true).mean()\n",
    "print(\"Mean Absolute Percentage Error (MAPE): {:.2f}%\".format(mape))"
   ]
  },
  {
   "cell_type": "code",
   "execution_count": null,
   "id": "da13605a-5cbf-4753-9a7d-8d1c76a1c691",
   "metadata": {},
   "outputs": [],
   "source": []
  }
 ],
 "metadata": {
  "kernelspec": {
   "display_name": "Python 3 (ipykernel)",
   "language": "python",
   "name": "python3"
  },
  "language_info": {
   "codemirror_mode": {
    "name": "ipython",
    "version": 3
   },
   "file_extension": ".py",
   "mimetype": "text/x-python",
   "name": "python",
   "nbconvert_exporter": "python",
   "pygments_lexer": "ipython3",
   "version": "3.12.1"
  }
 },
 "nbformat": 4,
 "nbformat_minor": 5
}
