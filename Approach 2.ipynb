{
 "cells": [
  {
   "cell_type": "code",
   "execution_count": 1,
   "id": "1105b31c-41b3-4a69-be7c-60d93468249c",
   "metadata": {},
   "outputs": [],
   "source": [
    "import pandas as pd\n",
    "import numpy as np\n",
    "from datetime import datetime\n",
    "from prophet import Prophet\n",
    "import matplotlib.pyplot as plt\n",
    "from sklearn.metrics import mean_absolute_error, mean_squared_error"
   ]
  },
  {
   "cell_type": "code",
   "execution_count": 2,
   "id": "77733f48-d8ac-4de7-ae55-59c132e0058b",
   "metadata": {
    "scrolled": true
   },
   "outputs": [
    {
     "name": "stdout",
     "output_type": "stream",
     "text": [
      "   Created Date  Attendance Count\n",
      "0    2019-07-16               102\n",
      "1    2019-07-30               102\n",
      "2    2019-07-31                19\n",
      "3    2019-08-01                 2\n",
      "4    2019-08-02                 1\n",
      "..          ...               ...\n",
      "45   2023-05-07                 1\n",
      "46   2023-05-09                 7\n",
      "47   2023-05-12                11\n",
      "48   2023-05-15                14\n",
      "49   2023-05-16                10\n",
      "\n",
      "[486 rows x 2 columns]\n"
     ]
    }
   ],
   "source": [
    "# Training Data, 6 datasets and only 49 days of the test data\n",
    "Data_sets = [\n",
    "    'D19_encoded.csv', 'D21_encoded.csv', 'GP21_encoded.csv',\n",
    "    'MSE21_encoded.csv', 'NP21_encoded.csv', 'SRM22_encoded.csv'\n",
    "]\n",
    "test_data = pd.read_csv('SRM23_encoded.csv') \n",
    "test_data1 = test_data[:50] # Test data 1 is the number of tickets already sold\n",
    "dataframes = []\n",
    "for file in Data_sets:\n",
    "    dataframes.append(pd.read_csv(file))\n",
    "df = pd.concat(dataframes, axis=0)\n",
    "new_df = [df,test_data1]\n",
    "df = pd.concat(new_df, axis=0)\n",
    "print(df)"
   ]
  },
  {
   "cell_type": "code",
   "execution_count": 3,
   "id": "9607e2a8-801b-43d2-be6e-6a8c93d9ff31",
   "metadata": {},
   "outputs": [
    {
     "data": {
      "text/html": [
       "<div>\n",
       "<style scoped>\n",
       "    .dataframe tbody tr th:only-of-type {\n",
       "        vertical-align: middle;\n",
       "    }\n",
       "\n",
       "    .dataframe tbody tr th {\n",
       "        vertical-align: top;\n",
       "    }\n",
       "\n",
       "    .dataframe thead th {\n",
       "        text-align: right;\n",
       "    }\n",
       "</style>\n",
       "<table border=\"1\" class=\"dataframe\">\n",
       "  <thead>\n",
       "    <tr style=\"text-align: right;\">\n",
       "      <th></th>\n",
       "      <th>ds</th>\n",
       "      <th>y</th>\n",
       "    </tr>\n",
       "  </thead>\n",
       "  <tbody>\n",
       "    <tr>\n",
       "      <th>0</th>\n",
       "      <td>2019-07-16</td>\n",
       "      <td>102</td>\n",
       "    </tr>\n",
       "    <tr>\n",
       "      <th>1</th>\n",
       "      <td>2019-07-30</td>\n",
       "      <td>102</td>\n",
       "    </tr>\n",
       "    <tr>\n",
       "      <th>2</th>\n",
       "      <td>2019-07-31</td>\n",
       "      <td>19</td>\n",
       "    </tr>\n",
       "    <tr>\n",
       "      <th>3</th>\n",
       "      <td>2019-08-01</td>\n",
       "      <td>2</td>\n",
       "    </tr>\n",
       "    <tr>\n",
       "      <th>4</th>\n",
       "      <td>2019-08-02</td>\n",
       "      <td>1</td>\n",
       "    </tr>\n",
       "    <tr>\n",
       "      <th>...</th>\n",
       "      <td>...</td>\n",
       "      <td>...</td>\n",
       "    </tr>\n",
       "    <tr>\n",
       "      <th>45</th>\n",
       "      <td>2023-05-07</td>\n",
       "      <td>1</td>\n",
       "    </tr>\n",
       "    <tr>\n",
       "      <th>46</th>\n",
       "      <td>2023-05-09</td>\n",
       "      <td>7</td>\n",
       "    </tr>\n",
       "    <tr>\n",
       "      <th>47</th>\n",
       "      <td>2023-05-12</td>\n",
       "      <td>11</td>\n",
       "    </tr>\n",
       "    <tr>\n",
       "      <th>48</th>\n",
       "      <td>2023-05-15</td>\n",
       "      <td>14</td>\n",
       "    </tr>\n",
       "    <tr>\n",
       "      <th>49</th>\n",
       "      <td>2023-05-16</td>\n",
       "      <td>10</td>\n",
       "    </tr>\n",
       "  </tbody>\n",
       "</table>\n",
       "<p>486 rows × 2 columns</p>\n",
       "</div>"
      ],
      "text/plain": [
       "            ds    y\n",
       "0   2019-07-16  102\n",
       "1   2019-07-30  102\n",
       "2   2019-07-31   19\n",
       "3   2019-08-01    2\n",
       "4   2019-08-02    1\n",
       "..         ...  ...\n",
       "45  2023-05-07    1\n",
       "46  2023-05-09    7\n",
       "47  2023-05-12   11\n",
       "48  2023-05-15   14\n",
       "49  2023-05-16   10\n",
       "\n",
       "[486 rows x 2 columns]"
      ]
     },
     "execution_count": 3,
     "metadata": {},
     "output_type": "execute_result"
    }
   ],
   "source": [
    "df = df.rename(columns={'Created Date': 'ds', 'Attendance Count': 'y'})\n",
    "df"
   ]
  },
  {
   "cell_type": "code",
   "execution_count": 4,
   "id": "743650a6-3933-4005-a7d2-70cad1009348",
   "metadata": {},
   "outputs": [
    {
     "name": "stderr",
     "output_type": "stream",
     "text": [
      "18:48:55 - cmdstanpy - INFO - Chain [1] start processing\n",
      "18:48:55 - cmdstanpy - INFO - Chain [1] done processing\n"
     ]
    },
    {
     "data": {
      "text/plain": [
       "<prophet.forecaster.Prophet at 0x22b2aa19fa0>"
      ]
     },
     "execution_count": 4,
     "metadata": {},
     "output_type": "execute_result"
    }
   ],
   "source": [
    "m = Prophet()\n",
    "m.fit(df)"
   ]
  },
  {
   "cell_type": "raw",
   "id": "06f50562-61a4-4abf-9e46-ded94071b374",
   "metadata": {},
   "source": [
    "#Trying to replicate the scenario, let's say we have information on the first 49 days of tickets sales. Using this data, we want to predict the total number of tickets that will eventually be sold by the last day of ticket sales. Once we make our prediction, we'll compare it to the actual final number of tickets sold, which we'll find in our case is the rest of our data in the test data set. This helps us see how accurate our prediction is."
   ]
  },
  {
   "cell_type": "code",
   "execution_count": 5,
   "id": "9e0a7d1d-893e-450b-b081-ad6dc534a642",
   "metadata": {},
   "outputs": [
    {
     "name": "stdout",
     "output_type": "stream",
     "text": [
      "            ds       yhat  yhat_lower  yhat_upper\n",
      "0   2019-07-16  31.121094   10.597790   52.990470\n",
      "1   2019-07-30  25.723293    4.048513   47.201850\n",
      "2   2019-07-31  21.821582    1.012548   44.657667\n",
      "3   2019-08-01  22.590194    1.563196   46.125062\n",
      "4   2019-08-02  18.311069   -2.877772   40.404735\n",
      "..         ...        ...         ...         ...\n",
      "481 2023-05-07  -5.786902  -26.673903   16.986799\n",
      "482 2023-05-09   7.495000  -15.520651   30.315898\n",
      "483 2023-05-12   3.981282  -17.595489   27.217613\n",
      "484 2023-05-15   3.920575  -19.130464   26.665474\n",
      "485 2023-05-16   6.415688  -16.748685   28.332306\n",
      "\n",
      "[486 rows x 4 columns]\n"
     ]
    }
   ],
   "source": [
    "forecast = m.predict(df)\n",
    "predictions = forecast[['ds', 'yhat', 'yhat_lower', 'yhat_upper']]\n",
    "print(predictions)"
   ]
  },
  {
   "cell_type": "code",
   "execution_count": 6,
   "id": "88155751-f5be-4a4d-bcd7-4d09ae82bfd8",
   "metadata": {},
   "outputs": [
    {
     "name": "stdin",
     "output_type": "stream",
     "text": [
      "Enter last date of event (YYYY-MM-DD):  2023-07-18\n"
     ]
    },
    {
     "data": {
      "text/plain": [
       "63"
      ]
     },
     "execution_count": 6,
     "metadata": {},
     "output_type": "execute_result"
    }
   ],
   "source": [
    "last_date = forecast['ds'].max()\n",
    "end_date_str = input(\"Enter last date of event (YYYY-MM-DD): \")\n",
    "end_date = datetime.strptime(end_date_str, '%Y-%m-%d')\n",
    "periods = (end_date - last_date).days\n",
    "periods"
   ]
  },
  {
   "cell_type": "code",
   "execution_count": 28,
   "id": "f52f90c9-e423-4efb-9f49-b503e375be18",
   "metadata": {},
   "outputs": [
    {
     "name": "stdout",
     "output_type": "stream",
     "text": [
      "           ds       yhat  yhat_upper  yhat_lower\n",
      "58 2023-07-14   7.527144   30.742962  -15.972918\n",
      "59 2023-07-15  -3.111522   17.966393  -25.700744\n",
      "60 2023-07-16  -0.968447   22.713627  -24.042708\n",
      "61 2023-07-17  10.680253   32.472167  -10.506011\n",
      "62 2023-07-18  13.892178   34.267018   -7.699565\n"
     ]
    }
   ],
   "source": [
    "future_dataframe = m.make_future_dataframe(periods=periods)\n",
    "future_dataframe = future_dataframe[future_dataframe['ds'] > last_date]\n",
    "\n",
    "forecast = m.predict(future_dataframe )\n",
    "#forecast= round(forecast[forecast['yhat']>0])\n",
    "#forecast['yhat'] = forecast['yhat'].abs()\n",
    "result = forecast[['ds', 'yhat', 'yhat_upper', 'yhat_lower']]\n",
    "print(result.tail())"
   ]
  },
  {
   "cell_type": "code",
   "execution_count": 29,
   "id": "0a67ceef-01d0-471a-b1af-2a24cbf83996",
   "metadata": {},
   "outputs": [
    {
     "name": "stderr",
     "output_type": "stream",
     "text": [
      "C:\\Users\\HomePC\\AppData\\Local\\Programs\\Python\\Python312\\Lib\\site-packages\\prophet\\plot.py:72: FutureWarning: The behavior of DatetimeProperties.to_pydatetime is deprecated, in a future version this will return a Series containing python datetime objects instead of an ndarray. To retain the old behavior, call `np.array` on the result\n",
      "  fcst_t = fcst['ds'].dt.to_pydatetime()\n",
      "C:\\Users\\HomePC\\AppData\\Local\\Programs\\Python\\Python312\\Lib\\site-packages\\prophet\\plot.py:73: FutureWarning: The behavior of DatetimeProperties.to_pydatetime is deprecated, in a future version this will return a Series containing python datetime objects instead of an ndarray. To retain the old behavior, call `np.array` on the result\n",
      "  ax.plot(m.history['ds'].dt.to_pydatetime(), m.history['y'], 'k.',\n"
     ]
    },
    {
     "data": {
      "image/png": "[encoded data removed]",
      "text/plain": [
       "<Figure size 1000x600 with 1 Axes>"
      ]
     },
     "metadata": {},
     "output_type": "display_data"
    }
   ],
   "source": [
    "fig1 = m.plot(forecast)"
   ]
  },
  {
   "cell_type": "code",
   "execution_count": 30,
   "id": "d8fd1195-3829-4347-8474-4b630c677154",
   "metadata": {},
   "outputs": [
    {
     "data": {
      "text/html": [
       "<div>\n",
       "<style scoped>\n",
       "    .dataframe tbody tr th:only-of-type {\n",
       "        vertical-align: middle;\n",
       "    }\n",
       "\n",
       "    .dataframe tbody tr th {\n",
       "        vertical-align: top;\n",
       "    }\n",
       "\n",
       "    .dataframe thead th {\n",
       "        text-align: right;\n",
       "    }\n",
       "</style>\n",
       "<table border=\"1\" class=\"dataframe\">\n",
       "  <thead>\n",
       "    <tr style=\"text-align: right;\">\n",
       "      <th></th>\n",
       "      <th>ds</th>\n",
       "      <th>y</th>\n",
       "    </tr>\n",
       "  </thead>\n",
       "  <tbody>\n",
       "    <tr>\n",
       "      <th>50</th>\n",
       "      <td>2023-05-17</td>\n",
       "      <td>19</td>\n",
       "    </tr>\n",
       "    <tr>\n",
       "      <th>51</th>\n",
       "      <td>2023-05-18</td>\n",
       "      <td>25</td>\n",
       "    </tr>\n",
       "    <tr>\n",
       "      <th>52</th>\n",
       "      <td>2023-05-19</td>\n",
       "      <td>11</td>\n",
       "    </tr>\n",
       "    <tr>\n",
       "      <th>53</th>\n",
       "      <td>2023-05-20</td>\n",
       "      <td>2</td>\n",
       "    </tr>\n",
       "    <tr>\n",
       "      <th>54</th>\n",
       "      <td>2023-05-21</td>\n",
       "      <td>3</td>\n",
       "    </tr>\n",
       "    <tr>\n",
       "      <th>55</th>\n",
       "      <td>2023-05-22</td>\n",
       "      <td>18</td>\n",
       "    </tr>\n",
       "    <tr>\n",
       "      <th>56</th>\n",
       "      <td>2023-05-23</td>\n",
       "      <td>65</td>\n",
       "    </tr>\n",
       "    <tr>\n",
       "      <th>57</th>\n",
       "      <td>2023-05-24</td>\n",
       "      <td>69</td>\n",
       "    </tr>\n",
       "    <tr>\n",
       "      <th>58</th>\n",
       "      <td>2023-05-25</td>\n",
       "      <td>18</td>\n",
       "    </tr>\n",
       "    <tr>\n",
       "      <th>59</th>\n",
       "      <td>2023-05-26</td>\n",
       "      <td>8</td>\n",
       "    </tr>\n",
       "    <tr>\n",
       "      <th>60</th>\n",
       "      <td>2023-05-27</td>\n",
       "      <td>1</td>\n",
       "    </tr>\n",
       "    <tr>\n",
       "      <th>61</th>\n",
       "      <td>2023-05-30</td>\n",
       "      <td>13</td>\n",
       "    </tr>\n",
       "    <tr>\n",
       "      <th>62</th>\n",
       "      <td>2023-05-31</td>\n",
       "      <td>12</td>\n",
       "    </tr>\n",
       "    <tr>\n",
       "      <th>63</th>\n",
       "      <td>2023-06-01</td>\n",
       "      <td>9</td>\n",
       "    </tr>\n",
       "    <tr>\n",
       "      <th>64</th>\n",
       "      <td>2023-06-02</td>\n",
       "      <td>23</td>\n",
       "    </tr>\n",
       "    <tr>\n",
       "      <th>65</th>\n",
       "      <td>2023-06-03</td>\n",
       "      <td>2</td>\n",
       "    </tr>\n",
       "    <tr>\n",
       "      <th>66</th>\n",
       "      <td>2023-06-04</td>\n",
       "      <td>1</td>\n",
       "    </tr>\n",
       "    <tr>\n",
       "      <th>67</th>\n",
       "      <td>2023-06-05</td>\n",
       "      <td>14</td>\n",
       "    </tr>\n",
       "    <tr>\n",
       "      <th>68</th>\n",
       "      <td>2023-06-06</td>\n",
       "      <td>9</td>\n",
       "    </tr>\n",
       "    <tr>\n",
       "      <th>69</th>\n",
       "      <td>2023-06-07</td>\n",
       "      <td>6</td>\n",
       "    </tr>\n",
       "    <tr>\n",
       "      <th>70</th>\n",
       "      <td>2023-06-08</td>\n",
       "      <td>2</td>\n",
       "    </tr>\n",
       "    <tr>\n",
       "      <th>71</th>\n",
       "      <td>2023-06-29</td>\n",
       "      <td>27</td>\n",
       "    </tr>\n",
       "    <tr>\n",
       "      <th>72</th>\n",
       "      <td>2023-07-04</td>\n",
       "      <td>21</td>\n",
       "    </tr>\n",
       "    <tr>\n",
       "      <th>73</th>\n",
       "      <td>2023-07-17</td>\n",
       "      <td>5</td>\n",
       "    </tr>\n",
       "    <tr>\n",
       "      <th>74</th>\n",
       "      <td>2023-07-18</td>\n",
       "      <td>1</td>\n",
       "    </tr>\n",
       "  </tbody>\n",
       "</table>\n",
       "</div>"
      ],
      "text/plain": [
       "            ds   y\n",
       "50  2023-05-17  19\n",
       "51  2023-05-18  25\n",
       "52  2023-05-19  11\n",
       "53  2023-05-20   2\n",
       "54  2023-05-21   3\n",
       "55  2023-05-22  18\n",
       "56  2023-05-23  65\n",
       "57  2023-05-24  69\n",
       "58  2023-05-25  18\n",
       "59  2023-05-26   8\n",
       "60  2023-05-27   1\n",
       "61  2023-05-30  13\n",
       "62  2023-05-31  12\n",
       "63  2023-06-01   9\n",
       "64  2023-06-02  23\n",
       "65  2023-06-03   2\n",
       "66  2023-06-04   1\n",
       "67  2023-06-05  14\n",
       "68  2023-06-06   9\n",
       "69  2023-06-07   6\n",
       "70  2023-06-08   2\n",
       "71  2023-06-29  27\n",
       "72  2023-07-04  21\n",
       "73  2023-07-17   5\n",
       "74  2023-07-18   1"
      ]
     },
     "execution_count": 30,
     "metadata": {},
     "output_type": "execute_result"
    }
   ],
   "source": [
    "# Actual sold, this dataset is to be used to compare the forecasted vs actual \n",
    "test_data2 = test_data[50:]\n",
    "test_data2= test_data2.rename(columns={'Created Date': 'ds', 'Attendance Count': 'y'})\n",
    "test_data2"
   ]
  },
  {
   "cell_type": "code",
   "execution_count": 31,
   "id": "7de04ba3-75ac-4e38-bdd8-a0981b81080b",
   "metadata": {},
   "outputs": [
    {
     "data": {
      "text/html": [
       "<div>\n",
       "<style scoped>\n",
       "    .dataframe tbody tr th:only-of-type {\n",
       "        vertical-align: middle;\n",
       "    }\n",
       "\n",
       "    .dataframe tbody tr th {\n",
       "        vertical-align: top;\n",
       "    }\n",
       "\n",
       "    .dataframe thead th {\n",
       "        text-align: right;\n",
       "    }\n",
       "</style>\n",
       "<table border=\"1\" class=\"dataframe\">\n",
       "  <thead>\n",
       "    <tr style=\"text-align: right;\">\n",
       "      <th></th>\n",
       "      <th>ds</th>\n",
       "      <th>y</th>\n",
       "      <th>yhat</th>\n",
       "    </tr>\n",
       "  </thead>\n",
       "  <tbody>\n",
       "    <tr>\n",
       "      <th>0</th>\n",
       "      <td>2023-05-17</td>\n",
       "      <td>19</td>\n",
       "      <td>3.881177</td>\n",
       "    </tr>\n",
       "    <tr>\n",
       "      <th>1</th>\n",
       "      <td>2023-05-18</td>\n",
       "      <td>25</td>\n",
       "      <td>6.108982</td>\n",
       "    </tr>\n",
       "    <tr>\n",
       "      <th>2</th>\n",
       "      <td>2023-05-19</td>\n",
       "      <td>11</td>\n",
       "      <td>3.363931</td>\n",
       "    </tr>\n",
       "    <tr>\n",
       "      <th>3</th>\n",
       "      <td>2023-05-20</td>\n",
       "      <td>2</td>\n",
       "      <td>-8.202561</td>\n",
       "    </tr>\n",
       "    <tr>\n",
       "      <th>4</th>\n",
       "      <td>2023-05-21</td>\n",
       "      <td>3</td>\n",
       "      <td>-6.792754</td>\n",
       "    </tr>\n",
       "    <tr>\n",
       "      <th>5</th>\n",
       "      <td>2023-05-22</td>\n",
       "      <td>18</td>\n",
       "      <td>4.339917</td>\n",
       "    </tr>\n",
       "    <tr>\n",
       "      <th>6</th>\n",
       "      <td>2023-05-23</td>\n",
       "      <td>65</td>\n",
       "      <td>7.270317</td>\n",
       "    </tr>\n",
       "    <tr>\n",
       "      <th>7</th>\n",
       "      <td>2023-05-24</td>\n",
       "      <td>69</td>\n",
       "      <td>5.195813</td>\n",
       "    </tr>\n",
       "    <tr>\n",
       "      <th>8</th>\n",
       "      <td>2023-05-25</td>\n",
       "      <td>18</td>\n",
       "      <td>7.894032</td>\n",
       "    </tr>\n",
       "    <tr>\n",
       "      <th>9</th>\n",
       "      <td>2023-05-26</td>\n",
       "      <td>8</td>\n",
       "      <td>5.614521</td>\n",
       "    </tr>\n",
       "    <tr>\n",
       "      <th>10</th>\n",
       "      <td>2023-05-27</td>\n",
       "      <td>1</td>\n",
       "      <td>-5.507136</td>\n",
       "    </tr>\n",
       "    <tr>\n",
       "      <th>11</th>\n",
       "      <td>2023-05-30</td>\n",
       "      <td>13</td>\n",
       "      <td>11.019066</td>\n",
       "    </tr>\n",
       "    <tr>\n",
       "      <th>12</th>\n",
       "      <td>2023-05-31</td>\n",
       "      <td>12</td>\n",
       "      <td>9.153347</td>\n",
       "    </tr>\n",
       "    <tr>\n",
       "      <th>13</th>\n",
       "      <td>2023-06-01</td>\n",
       "      <td>9</td>\n",
       "      <td>11.968348</td>\n",
       "    </tr>\n",
       "    <tr>\n",
       "      <th>14</th>\n",
       "      <td>2023-06-02</td>\n",
       "      <td>23</td>\n",
       "      <td>9.704065</td>\n",
       "    </tr>\n",
       "    <tr>\n",
       "      <th>15</th>\n",
       "      <td>2023-06-03</td>\n",
       "      <td>2</td>\n",
       "      <td>-1.510990</td>\n",
       "    </tr>\n",
       "    <tr>\n",
       "      <th>16</th>\n",
       "      <td>2023-06-04</td>\n",
       "      <td>1</td>\n",
       "      <td>0.100690</td>\n",
       "    </tr>\n",
       "    <tr>\n",
       "      <th>17</th>\n",
       "      <td>2023-06-05</td>\n",
       "      <td>14</td>\n",
       "      <td>11.268787</td>\n",
       "    </tr>\n",
       "    <tr>\n",
       "      <th>18</th>\n",
       "      <td>2023-06-06</td>\n",
       "      <td>9</td>\n",
       "      <td>14.055244</td>\n",
       "    </tr>\n",
       "    <tr>\n",
       "      <th>19</th>\n",
       "      <td>2023-06-07</td>\n",
       "      <td>6</td>\n",
       "      <td>11.648972</td>\n",
       "    </tr>\n",
       "    <tr>\n",
       "      <th>20</th>\n",
       "      <td>2023-06-08</td>\n",
       "      <td>2</td>\n",
       "      <td>13.824022</td>\n",
       "    </tr>\n",
       "    <tr>\n",
       "      <th>21</th>\n",
       "      <td>2023-06-29</td>\n",
       "      <td>27</td>\n",
       "      <td>-2.915938</td>\n",
       "    </tr>\n",
       "    <tr>\n",
       "      <th>22</th>\n",
       "      <td>2023-07-04</td>\n",
       "      <td>21</td>\n",
       "      <td>-0.966311</td>\n",
       "    </tr>\n",
       "    <tr>\n",
       "      <th>23</th>\n",
       "      <td>2023-07-17</td>\n",
       "      <td>5</td>\n",
       "      <td>10.680253</td>\n",
       "    </tr>\n",
       "    <tr>\n",
       "      <th>24</th>\n",
       "      <td>2023-07-18</td>\n",
       "      <td>1</td>\n",
       "      <td>13.892178</td>\n",
       "    </tr>\n",
       "  </tbody>\n",
       "</table>\n",
       "</div>"
      ],
      "text/plain": [
       "           ds   y       yhat\n",
       "0  2023-05-17  19   3.881177\n",
       "1  2023-05-18  25   6.108982\n",
       "2  2023-05-19  11   3.363931\n",
       "3  2023-05-20   2  -8.202561\n",
       "4  2023-05-21   3  -6.792754\n",
       "5  2023-05-22  18   4.339917\n",
       "6  2023-05-23  65   7.270317\n",
       "7  2023-05-24  69   5.195813\n",
       "8  2023-05-25  18   7.894032\n",
       "9  2023-05-26   8   5.614521\n",
       "10 2023-05-27   1  -5.507136\n",
       "11 2023-05-30  13  11.019066\n",
       "12 2023-05-31  12   9.153347\n",
       "13 2023-06-01   9  11.968348\n",
       "14 2023-06-02  23   9.704065\n",
       "15 2023-06-03   2  -1.510990\n",
       "16 2023-06-04   1   0.100690\n",
       "17 2023-06-05  14  11.268787\n",
       "18 2023-06-06   9  14.055244\n",
       "19 2023-06-07   6  11.648972\n",
       "20 2023-06-08   2  13.824022\n",
       "21 2023-06-29  27  -2.915938\n",
       "22 2023-07-04  21  -0.966311\n",
       "23 2023-07-17   5  10.680253\n",
       "24 2023-07-18   1  13.892178"
      ]
     },
     "execution_count": 31,
     "metadata": {},
     "output_type": "execute_result"
    }
   ],
   "source": [
    "test_data2['ds'] = pd.to_datetime(test_data2['ds'])\n",
    "merged_data = test_data2[['ds', 'y']].merge(forecast[['ds', 'yhat']], on='ds', how='left')\n",
    "merged_data"
   ]
  },
  {
   "cell_type": "code",
   "execution_count": 32,
   "id": "5a175348-4fd3-405b-aae8-cf7b69728914",
   "metadata": {},
   "outputs": [
    {
     "data": {
      "image/png": "[encoded data removed]",
      "text/plain": [
       "<Figure size 1400x700 with 1 Axes>"
      ]
     },
     "metadata": {},
     "output_type": "display_data"
    }
   ],
   "source": [
    "# Plotting the actual vs predicted\n",
    "plt.figure(figsize=(14, 7))\n",
    "plt.plot(merged_data['ds'], merged_data['y'], label='Actual', color='blue')\n",
    "plt.plot(merged_data['ds'], merged_data['yhat'], label='Predicted', color='red')\n",
    "plt.xlabel('Date')\n",
    "plt.ylabel('Bookings/Ticket Sales')\n",
    "plt.title('Per Day sales, Actual vs Predicted ticket sales')\n",
    "plt.legend()\n",
    "plt.savefig('Day_sales.jpg', bbox_inches='tight')\n",
    "plt.show()"
   ]
  },
  {
   "cell_type": "code",
   "execution_count": 33,
   "id": "416fe519-bac5-4e2a-8246-2c8c84f3c5c1",
   "metadata": {},
   "outputs": [
    {
     "name": "stdin",
     "output_type": "stream",
     "text": [
      "Enter First day for ticket sales, Format: (YYYY-MM-DD): 2023-01-30\n"
     ]
    },
    {
     "name": "stdout",
     "output_type": "stream",
     "text": [
      "Sum of predicted ticket sale to the D:Day: 623\n",
      "Sum of actual Ticket Sales from the Test Data: 741\n"
     ]
    }
   ],
   "source": [
    "dfs = [df,test_data2]\n",
    "combined_dfs = pd.concat(dfs, axis = 0)\n",
    "forecast['ds'] = pd.to_datetime(forecast['ds'])\n",
    "combined_dfs['ds'] = pd.to_datetime(combined_dfs['ds'])\n",
    "\n",
    "Start_date = str(datetime.strptime(input(\"Enter First day for ticket sales, Format: (YYYY-MM-DD):\"), '%Y-%m-%d'))\n",
    "Sum_yhat = forecast[forecast['yhat']>0]\n",
    "FDate_Ranges = df[df['ds'] >= Start_date]\n",
    "TDate_Ranges = combined_dfs[combined_dfs['ds'] >= Start_date]\n",
    "sum_yhat = Sum_yhat['yhat'].sum() + FDate_Ranges['y'].sum()\n",
    "sum_y_actual = TDate_Ranges['y'].sum()\n",
    "print(\"Sum of predicted ticket sale to the D:Day:\", round(sum_yhat))\n",
    "print(\"Sum of actual Ticket Sales from the Test Data:\", sum_y_actual)"
   ]
  },
  {
   "cell_type": "code",
   "execution_count": 34,
   "id": "2ea12106-8ab3-4cc3-bf43-ab6fe8b42df8",
   "metadata": {},
   "outputs": [
    {
     "name": "stdout",
     "output_type": "stream",
     "text": [
      "Mean Absolute Error (MAE): 13.48200238621738\n",
      "Mean Squared Error (MSE): 423.0258782609841\n",
      "Root Mean Squared Error (RMSE): 20.567592913634403\n"
     ]
    },
    {
     "name": "stderr",
     "output_type": "stream",
     "text": [
      "C:\\Users\\HomePC\\AppData\\Local\\Programs\\Python\\Python312\\Lib\\site-packages\\sklearn\\metrics\\_regression.py:483: FutureWarning: 'squared' is deprecated in version 1.4 and will be removed in 1.6. To calculate the root mean squared error, use the function'root_mean_squared_error'.\n",
      "  warnings.warn(\n"
     ]
    }
   ],
   "source": [
    "# filter for forecasted data based on each day tickets were sold in the test_data\n",
    "predicted = forecast[forecast['ds'].isin(test_data2['ds'])]\n",
    "\n",
    "# Extract predicted and actual values\n",
    "y_pred = predicted['yhat']\n",
    "y_true = test_data2['y']\n",
    "\n",
    "# Calculate evaluation metrics\n",
    "mae = mean_absolute_error(y_true, y_pred)\n",
    "mse = mean_squared_error(y_true, y_pred)\n",
    "rmse = mean_squared_error(y_true, y_pred, squared=False)  # RMSE\n",
    "# Optionally calculate other metrics like MAPE if needed\n",
    "\n",
    "print(\"Mean Absolute Error (MAE):\", mae)\n",
    "print(\"Mean Squared Error (MSE):\", mse)\n",
    "print(\"Root Mean Squared Error (RMSE):\", rmse)"
   ]
  },
  {
   "cell_type": "code",
   "execution_count": 35,
   "id": "a8e05ce6-4bee-40e9-b43d-95911014758f",
   "metadata": {},
   "outputs": [
    {
     "name": "stdout",
     "output_type": "stream",
     "text": [
      "Mean Absolute Percentage Error (MAPE): 16.81%\n"
     ]
    }
   ],
   "source": [
    "# Calculate Mean Absolute Percentage Error (MAPE)\n",
    "mape = 100 * (abs(y_true - y_pred) / y_true).mean()\n",
    "print(\"Mean Absolute Percentage Error (MAPE): {:.2f}%\".format(mape))"
   ]
  },
  {
   "cell_type": "code",
   "execution_count": null,
   "id": "13124346-d8e5-4c55-bcd7-77432df6a9f8",
   "metadata": {},
   "outputs": [],
   "source": []
  }
 ],
 "metadata": {
  "kernelspec": {
   "display_name": "Python 3 (ipykernel)",
   "language": "python",
   "name": "python3"
  },
  "language_info": {
   "codemirror_mode": {
    "name": "ipython",
    "version": 3
   },
   "file_extension": ".py",
   "mimetype": "text/x-python",
   "name": "python",
   "nbconvert_exporter": "python",
   "pygments_lexer": "ipython3",
   "version": "3.12.1"
  }
 },
 "nbformat": 4,
 "nbformat_minor": 5
}
